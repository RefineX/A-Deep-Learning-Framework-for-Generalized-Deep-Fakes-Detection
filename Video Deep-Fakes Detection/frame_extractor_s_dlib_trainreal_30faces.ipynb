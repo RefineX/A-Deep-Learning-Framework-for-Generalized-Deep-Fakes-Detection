{
  "nbformat": 4,
  "nbformat_minor": 0,
  "metadata": {
    "kernelspec": {
      "display_name": "Python 3",
      "language": "python",
      "name": "python3"
    },
    "language_info": {
      "codemirror_mode": {
        "name": "ipython",
        "version": 3
      },
      "file_extension": ".py",
      "mimetype": "text/x-python",
      "name": "python",
      "nbconvert_exporter": "python",
      "pygments_lexer": "ipython3",
      "version": "3.5.2"
    },
    "colab": {
      "name": "frame_extractor_s_dlib_trainreal-30faces.ipynb",
      "provenance": []
    }
  },
  "cells": [
    {
      "cell_type": "code",
      "metadata": {
        "id": "EblwPLf9-ZDr",
        "colab_type": "code",
        "colab": {},
        "outputId": "06bc380c-7098-48d8-b4e6-7b9bd3563218"
      },
      "source": [
        "!pip install dlib"
      ],
      "execution_count": null,
      "outputs": [
        {
          "output_type": "stream",
          "text": [
            "Collecting dlib\n",
            "\u001b[?25l  Downloading https://files.pythonhosted.org/packages/63/92/05c3b98636661cb80d190a5a777dd94effcc14c0f6893222e5ca81e74fbc/dlib-19.19.0.tar.gz (3.2MB)\n",
            "\u001b[K     |████████████████████████████████| 3.2MB 10.7MB/s eta 0:00:01\n",
            "\u001b[?25hBuilding wheels for collected packages: dlib\n",
            "  Building wheel for dlib (setup.py) ... \u001b[?25ldone\n",
            "\u001b[?25h  Stored in directory: /root/.cache/pip/wheels/96/ac/11/8aadec62cb4fb5b264a9b1b042caf415de9a75f5e165d79a51\n",
            "Successfully built dlib\n",
            "Installing collected packages: dlib\n",
            "Successfully installed dlib-19.19.0\n",
            "\u001b[33mWARNING: You are using pip version 19.1.1, however version 20.0.2 is available.\n",
            "You should consider upgrading via the 'pip install --upgrade pip' command.\u001b[0m\n"
          ],
          "name": "stdout"
        }
      ]
    },
    {
      "cell_type": "code",
      "metadata": {
        "id": "Smx_XUct-ZDw",
        "colab_type": "code",
        "colab": {}
      },
      "source": [
        "import os\n",
        "os.environ[\"CUDA_DEVICE_ORDER\"] = \"PCI_BUS_ID\"\n",
        "os.environ[\"CUDA_VISIBLE_DEVICES\"] = \"3\""
      ],
      "execution_count": null,
      "outputs": []
    },
    {
      "cell_type": "code",
      "metadata": {
        "id": "NX-7LkhS-ZDz",
        "colab_type": "code",
        "colab": {}
      },
      "source": [
        "from pathlib import Path\n",
        "import os\n",
        "import cv2\n",
        "from matplotlib import pyplot as plt\n",
        "import numpy as np\n",
        "from tqdm import tqdm\n",
        "import shutil\n",
        "import time\n",
        "import dlib\n",
        "from random import shuffle"
      ],
      "execution_count": null,
      "outputs": []
    },
    {
      "cell_type": "code",
      "metadata": {
        "id": "DCG4X2i1-ZD4",
        "colab_type": "code",
        "colab": {}
      },
      "source": [
        "detector = dlib.cnn_face_detection_model_v1(\"/home/refinex/face-forensics/videos/mmod_human_face_detector.dat\")"
      ],
      "execution_count": null,
      "outputs": []
    },
    {
      "cell_type": "code",
      "metadata": {
        "id": "Y85MLooD-ZD7",
        "colab_type": "code",
        "colab": {},
        "outputId": "07777585-2ec2-4d46-d144-3fcada529d06"
      },
      "source": [
        "source_path = '/home/refinex/DFDC_big/clustered_split/'\n",
        "for split in ['train/','val/']:\n",
        "    for label in ['real/','fake/']:\n",
        "        print(source_path+split+label+': '+str(len([f for f in os.listdir(source_path+split+label) if 'mp4' in f])))"
      ],
      "execution_count": null,
      "outputs": [
        {
          "output_type": "stream",
          "text": [
            "/home/refinex/DFDC_big/clustered_split/train/real/: 15107\n",
            "/home/refinex/DFDC_big/clustered_split/train/fake/: 78591\n",
            "/home/refinex/DFDC_big/clustered_split/val/real/: 4047\n",
            "/home/refinex/DFDC_big/clustered_split/val/fake/: 21401\n"
          ],
          "name": "stdout"
        }
      ]
    },
    {
      "cell_type": "code",
      "metadata": {
        "id": "0OwQCYOn-ZD-",
        "colab_type": "code",
        "colab": {}
      },
      "source": [
        "source_path = '/home/refinex/DFDC_big/dlib_clustered_30faces/'\n",
        "for split in ['train/','val/']:\n",
        "    for label in ['real/','fake/']:\n",
        "        Path(source_path+split+label).mkdir(parents=True, exist_ok=True)"
      ],
      "execution_count": null,
      "outputs": []
    },
    {
      "cell_type": "code",
      "metadata": {
        "id": "7SsIpalO-ZEB",
        "colab_type": "code",
        "colab": {}
      },
      "source": [
        "source_path = '/home/refinex/DFDC_big/clustered_split/'\n",
        "dest_path = '/home/refinex/DFDC_big/dlib_clustered_30faces/'\n",
        "split = 'train/'\n",
        "label = 'real/'\n",
        "vidpath = source_path + split + label\n",
        "folderpath = dest_path + split + label\n",
        "videos = sorted(os.listdir(source_path + split + label))\n",
        "shuffle(videos)\n",
        "videos = videos[:len([f for f in os.listdir(source_path+split+'real/') if 'mp4' in f])]\n",
        "req_frames = 30\n",
        "scale = 1.3\n",
        "req_size = 200"
      ],
      "execution_count": null,
      "outputs": []
    },
    {
      "cell_type": "code",
      "metadata": {
        "id": "P-BkrFy6-ZEE",
        "colab_type": "code",
        "colab": {}
      },
      "source": [
        "logs_dict = {}"
      ],
      "execution_count": null,
      "outputs": []
    },
    {
      "cell_type": "code",
      "metadata": {
        "id": "LqcqqmBR-ZEI",
        "colab_type": "code",
        "colab": {}
      },
      "source": [
        "with open('trainreal_vids.txt','r') as f:\n",
        "    videos = f.read().split('\\n')"
      ],
      "execution_count": null,
      "outputs": []
    },
    {
      "cell_type": "code",
      "metadata": {
        "id": "OFz3o4kS-ZEK",
        "colab_type": "code",
        "colab": {},
        "outputId": "ad7edfc6-4e7e-4b0e-9fee-4c31cab188a3"
      },
      "source": [
        "for video in tqdm(videos[:3000]):\n",
        "    facepath = folderpath + video[:-4] + '/'\n",
        "    Path(facepath).mkdir(parents=True,exist_ok=True)\n",
        "    video_capture = cv2.VideoCapture(vidpath + video)\n",
        "    count = int(video_capture.get(cv2.CAP_PROP_FRAME_COUNT))\n",
        "    more_than_one = 0\n",
        "    no_faces = 0\n",
        "    out_of_frame = 0\n",
        "    done_frames = 0\n",
        "    img_size = -1\n",
        "    frame_number = 0\n",
        "    while True:\n",
        "        res, frame = video_capture.read()\n",
        "        if not res:\n",
        "            break\n",
        "        faceRects = detector(frame[:,:,::-1], 0)\n",
        "        if (len(faceRects)==0):\n",
        "            no_faces += 1\n",
        "            continue\n",
        "        if (len(faceRects)>1):\n",
        "            more_than_one += 1\n",
        "            continue\n",
        "        x1 = faceRects[0].rect.left()\n",
        "        y1 = faceRects[0].rect.top()\n",
        "        x2 = faceRects[0].rect.right()\n",
        "        y2 = faceRects[0].rect.bottom()\n",
        "        center = ((x1 + x2) // 2, (y1 + y2) // 2)\n",
        "        length = max(x2 - x1, y2 - y1)\n",
        "        x1 = center[0] - int(length*scale/2)\n",
        "        x2 = center[0] + int(length*scale/2)\n",
        "        y1 = center[1] - int(length*scale/2)\n",
        "        y2 = center[1] + int(length*scale/2)\n",
        "        if x1 < 0 or y1 < 0 or x2 > frame.shape[1] or y2 > frame.shape[0]:\n",
        "            out_of_frame += 1\n",
        "            continue\n",
        "        final=frame[y1:y2,x1:x2,::-1]\n",
        "        plt.imsave(facepath+str(frame_number).zfill(2)+'.jpg',final)\n",
        "        frame_number += 1\n",
        "        done_frames += 1\n",
        "        if done_frames == req_frames:\n",
        "            img_size = y2-y1\n",
        "            break\n",
        "    logs_dict[video] = [more_than_one, no_faces, out_of_frame, img_size, done_frames]\n",
        "    video_capture.release()"
      ],
      "execution_count": null,
      "outputs": [
        {
          "output_type": "stream",
          "text": [
            "100%|██████████| 3000/3000 [8:29:47<00:00,  4.73s/it]   \n"
          ],
          "name": "stderr"
        }
      ]
    },
    {
      "cell_type": "code",
      "metadata": {
        "id": "0dePHCqC-ZEN",
        "colab_type": "code",
        "colab": {}
      },
      "source": [
        "import json"
      ],
      "execution_count": null,
      "outputs": []
    },
    {
      "cell_type": "code",
      "metadata": {
        "id": "v-7qgtEQ-ZEQ",
        "colab_type": "code",
        "colab": {}
      },
      "source": [
        "with open('dlib_30faces_{}{}0_logs.json'.format(split[:-1],label[:-1]), 'w') as fp:\n",
        "    json.dump(logs_dict, fp)"
      ],
      "execution_count": null,
      "outputs": []
    },
    {
      "cell_type": "code",
      "metadata": {
        "id": "0OPQhE_T-ZES",
        "colab_type": "code",
        "colab": {}
      },
      "source": [
        ""
      ],
      "execution_count": null,
      "outputs": []
    }
  ]
}