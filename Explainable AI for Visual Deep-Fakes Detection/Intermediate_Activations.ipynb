{
  "nbformat": 4,
  "nbformat_minor": 0,
  "metadata": {
    "colab": {
      "name": "Intermediate_Activations.ipynb",
      "provenance": []
    },
    "kernelspec": {
      "name": "python3",
      "display_name": "Python 3"
    },
    "accelerator": "GPU"
  },
  "cells": [
    {
      "cell_type": "markdown",
      "metadata": {
        "id": "nH3ZCFn_pQqZ",
        "colab_type": "text"
      },
      "source": [
        "# **Visualizing Intermediate Activations**\n",
        "Here, we visualize the intermediate activations of our Keras model."
      ]
    },
    {
      "cell_type": "markdown",
      "metadata": {
        "id": "0aYdV9TQqHK4",
        "colab_type": "text"
      },
      "source": [
        "Import necessary packages"
      ]
    },
    {
      "cell_type": "code",
      "metadata": {
        "id": "P9EDG8Llhs0W",
        "colab_type": "code",
        "colab": {}
      },
      "source": [
        "from keras.models import load_model, Model\n",
        "from keras.preprocessing import image\n",
        "import matplotlib.pyplot as plt\n",
        "import numpy as np"
      ],
      "execution_count": null,
      "outputs": []
    },
    {
      "cell_type": "code",
      "metadata": {
        "id": "AsNItLPoiU8W",
        "colab_type": "code",
        "colab": {}
      },
      "source": [
        "cd drive/My\\ Drive"
      ],
      "execution_count": null,
      "outputs": []
    },
    {
      "cell_type": "markdown",
      "metadata": {
        "id": "FoViOuGdD1U8",
        "colab_type": "text"
      },
      "source": [
        "Add your image path in the cell below"
      ]
    },
    {
      "cell_type": "code",
      "metadata": {
        "id": "v0_OT4hvTdcY",
        "colab_type": "code",
        "colab": {}
      },
      "source": [
        "img_path = 'YOUR IMAGE PATH'"
      ],
      "execution_count": null,
      "outputs": []
    },
    {
      "cell_type": "markdown",
      "metadata": {
        "id": "skBEYZ9nD8R5",
        "colab_type": "text"
      },
      "source": [
        "Preprocess input"
      ]
    },
    {
      "cell_type": "code",
      "metadata": {
        "id": "1CiOkzHsDw7N",
        "colab_type": "code",
        "colab": {}
      },
      "source": [
        "x = plt.imread(img_path)\n",
        "plt.imshow(x)\n",
        "x = x/255\n",
        "x = np.expand_dims(x,0)\n",
        "x.shape"
      ],
      "execution_count": null,
      "outputs": []
    },
    {
      "cell_type": "markdown",
      "metadata": {
        "id": "VwUF-uKzEATb",
        "colab_type": "text"
      },
      "source": [
        "Load your Keras model below"
      ]
    },
    {
      "cell_type": "code",
      "metadata": {
        "id": "_LRcU0U8UWby",
        "colab_type": "code",
        "colab": {}
      },
      "source": [
        "# Add model path below\n",
        "model = load_model('YOUR MODEL PATH')"
      ],
      "execution_count": null,
      "outputs": []
    },
    {
      "cell_type": "markdown",
      "metadata": {
        "id": "slA2LBALEEXT",
        "colab_type": "text"
      },
      "source": [
        "Get model predictions"
      ]
    },
    {
      "cell_type": "code",
      "metadata": {
        "id": "MQDyBt-fUv6x",
        "colab_type": "code",
        "colab": {}
      },
      "source": [
        "model.predict(x)"
      ],
      "execution_count": null,
      "outputs": []
    },
    {
      "cell_type": "code",
      "metadata": {
        "id": "YEjewF2Aqb8y",
        "colab_type": "code",
        "colab": {}
      },
      "source": [
        "# View all the layers of the model\n",
        "model.layers"
      ],
      "execution_count": null,
      "outputs": []
    },
    {
      "cell_type": "markdown",
      "metadata": {
        "id": "__iYNPCEq83R",
        "colab_type": "text"
      },
      "source": [
        "Select layer outputs and create Activation Model"
      ]
    },
    {
      "cell_type": "code",
      "metadata": {
        "id": "ynhpNb71_C2J",
        "colab_type": "code",
        "colab": {}
      },
      "source": [
        "# Select the number of layers to take into consideration\n",
        "numlayers = 79 # We consider Xception model in this case\n",
        "\n",
        "# Extracts the outputs of the top 12 conv layers\n",
        "layer_outputs = [layer.output for layer in model.layers[:79]][1:]\n",
        "\n",
        "# Creates a model that will return these outputs, given the model input\n",
        "activation_model = Model(inputs=model.input, outputs=layer_outputs)"
      ],
      "execution_count": null,
      "outputs": []
    },
    {
      "cell_type": "markdown",
      "metadata": {
        "id": "glqFKBp1rFZt",
        "colab_type": "text"
      },
      "source": [
        "View Activation model summary"
      ]
    },
    {
      "cell_type": "code",
      "metadata": {
        "id": "FZcblv_1_C2Y",
        "colab_type": "code",
        "colab": {}
      },
      "source": [
        "activation_model.summary()"
      ],
      "execution_count": null,
      "outputs": []
    },
    {
      "cell_type": "markdown",
      "metadata": {
        "id": "jMpbnnEFsFXZ",
        "colab_type": "text"
      },
      "source": [
        "Visualize Activation of a filter of the first layer"
      ]
    },
    {
      "cell_type": "code",
      "metadata": {
        "id": "tAqqCPLY_C2n",
        "colab_type": "code",
        "colab": {}
      },
      "source": [
        "# Get outputs of all layers of activation model for given input\n",
        "activations = activation_model.predict(x)\n",
        "\n",
        "# Get activations of first layer\n",
        "first_layer_activation = activations[0]\n",
        "print(\"Shape of first layer activation: \", first_layer_activation.shape)\n",
        "\n",
        "# Visualize the activation of a given filter of a first layer\n",
        "filter_num = 4 # Choose your filter number\n",
        "plt.matshow(first_layer_activation[0, :, :, filter_num], cmap='viridis')"
      ],
      "execution_count": null,
      "outputs": []
    },
    {
      "cell_type": "markdown",
      "metadata": {
        "id": "1H2YRpoYseMK",
        "colab_type": "text"
      },
      "source": [
        "Visualize Activation of a filter of any intermediate layer"
      ]
    },
    {
      "cell_type": "code",
      "metadata": {
        "id": "nQMTGK2V_C2t",
        "colab_type": "code",
        "colab": {}
      },
      "source": [
        "# Get outputs of all layers of activation model for given input\n",
        "activations = activation_model.predict(x)\n",
        "\n",
        "# Get activations of intermediate layer\n",
        "intermediate_layer_num = 34\n",
        "int_layer_activation = activations[34]\n",
        "print(\"Shape of first layer activation: \", first_layer_activation.shape)\n",
        "\n",
        "# Visualize the activation of a given filter of a given layer\n",
        "filter_num = 4 # Choose your filter number\n",
        "plt.matshow(int_layer_activation[0, :, :, filter_num], cmap='viridis')"
      ],
      "execution_count": null,
      "outputs": []
    },
    {
      "cell_type": "markdown",
      "metadata": {
        "id": "EZjtxGcksvZ6",
        "colab_type": "text"
      },
      "source": [
        "Create a dictionary corresponding to the layer names and their activations"
      ]
    },
    {
      "cell_type": "code",
      "metadata": {
        "id": "FLyLQF6djlWV",
        "colab_type": "code",
        "colab": {}
      },
      "source": [
        "layer_acts = dict(zip(layer_names, ['No activation']+ activations))"
      ],
      "execution_count": null,
      "outputs": []
    },
    {
      "cell_type": "code",
      "metadata": {
        "id": "ttbTIYc-tHP2",
        "colab_type": "code",
        "colab": {}
      },
      "source": [
        "layer_acts.keys() # List of layer names"
      ],
      "execution_count": null,
      "outputs": []
    },
    {
      "cell_type": "markdown",
      "metadata": {
        "id": "K_CcpSuvs8SR",
        "colab_type": "text"
      },
      "source": [
        "Visualize all the filter activations of a given layer"
      ]
    },
    {
      "cell_type": "code",
      "metadata": {
        "id": "YdOiLb6z5WvK",
        "colab_type": "code",
        "colab": {}
      },
      "source": [
        "images_per_row = 16\n",
        "# Enter your layer name below\n",
        "layer_name ='SELECT YOUR LAYER' # Select any layer apart from the first one\n",
        "\n",
        "n_features = layer_acts[layer_name].shape[-1] # Number of features in the feature map\n",
        "size = layer_acts[layer_name].shape[1] #The feature map has shape (1, size, size, n_features).\n",
        "n_cols = n_features // images_per_row # Tiles the activation channels in this matrix\n",
        "display_grid = np.zeros((size * n_cols, images_per_row * size))\n",
        "\n",
        "for col in range(n_cols): # Tiles each filter into a big horizontal grid\n",
        "    for row in range(images_per_row):\n",
        "        channel_image = layer_acts[layer_name][0, :, :, col * images_per_row + row]\n",
        "        channel_image -= channel_image.mean() # Post-processes the feature to make it visually palatable\n",
        "        channel_image /= channel_image.std()\n",
        "        channel_image *= 64\n",
        "        channel_image += 128\n",
        "        channel_image = np.clip(channel_image, 0, 255).astype('uint8')\n",
        "        display_grid[col * size : (col + 1) * size, row * size : (row + 1) * size] = channel_image # Displays the grid\n",
        "\n",
        "scale = 1. / size\n",
        "plt.figure(figsize=(scale * display_grid.shape[1],\n",
        "                    scale * display_grid.shape[0]), facecolor='white')\n",
        "plt.axis('off')\n",
        "plt.title(layer_name)\n",
        "plt.grid(False)\n",
        "plt.imshow(display_grid, aspect='auto', cmap='viridis')"
      ],
      "execution_count": null,
      "outputs": []
    }
  ]
}